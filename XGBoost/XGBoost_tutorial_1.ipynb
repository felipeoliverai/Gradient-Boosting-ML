{
  "nbformat": 4,
  "nbformat_minor": 0,
  "metadata": {
    "colab": {
      "name": "XGBoost_tutorial_1.ipynb",
      "provenance": [],
      "collapsed_sections": [],
      "toc_visible": true
    },
    "kernelspec": {
      "name": "python3",
      "display_name": "Python 3"
    },
    "accelerator": "GPU"
  },
  "cells": [
    {
      "cell_type": "markdown",
      "metadata": {
        "id": "ZBM9fOq1R3L_",
        "colab_type": "text"
      },
      "source": [
        "### XGBoost \n",
        "<hr>\n",
        "\n",
        "\n",
        "Estudos sobre a biblioteca XGBoost\n",
        "\n",
        "\n",
        "\n",
        "<p align=center>\n",
        "<img src=\"https://www.dataapplab.com/wp-content/uploads/2017/08/xgboost.png\" width=\"50%\"></p>\n",
        "\n",
        "\n",
        "\n",
        "<br>\n",
        "<hr>\n",
        "\n",
        "\n",
        "\n",
        "\n"
      ]
    },
    {
      "cell_type": "code",
      "metadata": {
        "id": "OC1E1gRARjYz",
        "colab_type": "code",
        "colab": {}
      },
      "source": [
        "import numpy as np \n",
        "import pandas as pd\n",
        "from hyperopt import hp,fmin, Trials, tpe\n",
        "from sklearn.model_selection import train_test_split\n",
        "from sklearn.preprocessing import QuantileTransformer\n",
        "from sklearn.metrics import classification_report, average_precision_score, accuracy_score, recall_score\n",
        "import matplotlib.pyplot as plt\n",
        "\n",
        "import xgboost as xgb\n",
        "from xgboost import XGBClassifier"
      ],
      "execution_count": 2,
      "outputs": []
    },
    {
      "cell_type": "code",
      "metadata": {
        "id": "4XovdXOtRwQT",
        "colab_type": "code",
        "colab": {
          "base_uri": "https://localhost:8080/",
          "height": 224
        },
        "outputId": "d31f5a12-8d61-4777-ebad-03c22e1ad844"
      },
      "source": [
        "path = '/content/drive/My Drive/Inteligência Artificial - Colab/Detecção de Fraude /creditcard.csv'\n",
        "data = pd.read_csv(path)\n",
        "data.head()"
      ],
      "execution_count": 3,
      "outputs": [
        {
          "output_type": "execute_result",
          "data": {
            "text/html": [
              "<div>\n",
              "<style scoped>\n",
              "    .dataframe tbody tr th:only-of-type {\n",
              "        vertical-align: middle;\n",
              "    }\n",
              "\n",
              "    .dataframe tbody tr th {\n",
              "        vertical-align: top;\n",
              "    }\n",
              "\n",
              "    .dataframe thead th {\n",
              "        text-align: right;\n",
              "    }\n",
              "</style>\n",
              "<table border=\"1\" class=\"dataframe\">\n",
              "  <thead>\n",
              "    <tr style=\"text-align: right;\">\n",
              "      <th></th>\n",
              "      <th>Time</th>\n",
              "      <th>V1</th>\n",
              "      <th>V2</th>\n",
              "      <th>V3</th>\n",
              "      <th>V4</th>\n",
              "      <th>V5</th>\n",
              "      <th>V6</th>\n",
              "      <th>V7</th>\n",
              "      <th>V8</th>\n",
              "      <th>V9</th>\n",
              "      <th>V10</th>\n",
              "      <th>V11</th>\n",
              "      <th>V12</th>\n",
              "      <th>V13</th>\n",
              "      <th>V14</th>\n",
              "      <th>V15</th>\n",
              "      <th>V16</th>\n",
              "      <th>V17</th>\n",
              "      <th>V18</th>\n",
              "      <th>V19</th>\n",
              "      <th>V20</th>\n",
              "      <th>V21</th>\n",
              "      <th>V22</th>\n",
              "      <th>V23</th>\n",
              "      <th>V24</th>\n",
              "      <th>V25</th>\n",
              "      <th>V26</th>\n",
              "      <th>V27</th>\n",
              "      <th>V28</th>\n",
              "      <th>Amount</th>\n",
              "      <th>Class</th>\n",
              "    </tr>\n",
              "  </thead>\n",
              "  <tbody>\n",
              "    <tr>\n",
              "      <th>0</th>\n",
              "      <td>0.0</td>\n",
              "      <td>-1.359807</td>\n",
              "      <td>-0.072781</td>\n",
              "      <td>2.536347</td>\n",
              "      <td>1.378155</td>\n",
              "      <td>-0.338321</td>\n",
              "      <td>0.462388</td>\n",
              "      <td>0.239599</td>\n",
              "      <td>0.098698</td>\n",
              "      <td>0.363787</td>\n",
              "      <td>0.090794</td>\n",
              "      <td>-0.551600</td>\n",
              "      <td>-0.617801</td>\n",
              "      <td>-0.991390</td>\n",
              "      <td>-0.311169</td>\n",
              "      <td>1.468177</td>\n",
              "      <td>-0.470401</td>\n",
              "      <td>0.207971</td>\n",
              "      <td>0.025791</td>\n",
              "      <td>0.403993</td>\n",
              "      <td>0.251412</td>\n",
              "      <td>-0.018307</td>\n",
              "      <td>0.277838</td>\n",
              "      <td>-0.110474</td>\n",
              "      <td>0.066928</td>\n",
              "      <td>0.128539</td>\n",
              "      <td>-0.189115</td>\n",
              "      <td>0.133558</td>\n",
              "      <td>-0.021053</td>\n",
              "      <td>149.62</td>\n",
              "      <td>0</td>\n",
              "    </tr>\n",
              "    <tr>\n",
              "      <th>1</th>\n",
              "      <td>0.0</td>\n",
              "      <td>1.191857</td>\n",
              "      <td>0.266151</td>\n",
              "      <td>0.166480</td>\n",
              "      <td>0.448154</td>\n",
              "      <td>0.060018</td>\n",
              "      <td>-0.082361</td>\n",
              "      <td>-0.078803</td>\n",
              "      <td>0.085102</td>\n",
              "      <td>-0.255425</td>\n",
              "      <td>-0.166974</td>\n",
              "      <td>1.612727</td>\n",
              "      <td>1.065235</td>\n",
              "      <td>0.489095</td>\n",
              "      <td>-0.143772</td>\n",
              "      <td>0.635558</td>\n",
              "      <td>0.463917</td>\n",
              "      <td>-0.114805</td>\n",
              "      <td>-0.183361</td>\n",
              "      <td>-0.145783</td>\n",
              "      <td>-0.069083</td>\n",
              "      <td>-0.225775</td>\n",
              "      <td>-0.638672</td>\n",
              "      <td>0.101288</td>\n",
              "      <td>-0.339846</td>\n",
              "      <td>0.167170</td>\n",
              "      <td>0.125895</td>\n",
              "      <td>-0.008983</td>\n",
              "      <td>0.014724</td>\n",
              "      <td>2.69</td>\n",
              "      <td>0</td>\n",
              "    </tr>\n",
              "    <tr>\n",
              "      <th>2</th>\n",
              "      <td>1.0</td>\n",
              "      <td>-1.358354</td>\n",
              "      <td>-1.340163</td>\n",
              "      <td>1.773209</td>\n",
              "      <td>0.379780</td>\n",
              "      <td>-0.503198</td>\n",
              "      <td>1.800499</td>\n",
              "      <td>0.791461</td>\n",
              "      <td>0.247676</td>\n",
              "      <td>-1.514654</td>\n",
              "      <td>0.207643</td>\n",
              "      <td>0.624501</td>\n",
              "      <td>0.066084</td>\n",
              "      <td>0.717293</td>\n",
              "      <td>-0.165946</td>\n",
              "      <td>2.345865</td>\n",
              "      <td>-2.890083</td>\n",
              "      <td>1.109969</td>\n",
              "      <td>-0.121359</td>\n",
              "      <td>-2.261857</td>\n",
              "      <td>0.524980</td>\n",
              "      <td>0.247998</td>\n",
              "      <td>0.771679</td>\n",
              "      <td>0.909412</td>\n",
              "      <td>-0.689281</td>\n",
              "      <td>-0.327642</td>\n",
              "      <td>-0.139097</td>\n",
              "      <td>-0.055353</td>\n",
              "      <td>-0.059752</td>\n",
              "      <td>378.66</td>\n",
              "      <td>0</td>\n",
              "    </tr>\n",
              "    <tr>\n",
              "      <th>3</th>\n",
              "      <td>1.0</td>\n",
              "      <td>-0.966272</td>\n",
              "      <td>-0.185226</td>\n",
              "      <td>1.792993</td>\n",
              "      <td>-0.863291</td>\n",
              "      <td>-0.010309</td>\n",
              "      <td>1.247203</td>\n",
              "      <td>0.237609</td>\n",
              "      <td>0.377436</td>\n",
              "      <td>-1.387024</td>\n",
              "      <td>-0.054952</td>\n",
              "      <td>-0.226487</td>\n",
              "      <td>0.178228</td>\n",
              "      <td>0.507757</td>\n",
              "      <td>-0.287924</td>\n",
              "      <td>-0.631418</td>\n",
              "      <td>-1.059647</td>\n",
              "      <td>-0.684093</td>\n",
              "      <td>1.965775</td>\n",
              "      <td>-1.232622</td>\n",
              "      <td>-0.208038</td>\n",
              "      <td>-0.108300</td>\n",
              "      <td>0.005274</td>\n",
              "      <td>-0.190321</td>\n",
              "      <td>-1.175575</td>\n",
              "      <td>0.647376</td>\n",
              "      <td>-0.221929</td>\n",
              "      <td>0.062723</td>\n",
              "      <td>0.061458</td>\n",
              "      <td>123.50</td>\n",
              "      <td>0</td>\n",
              "    </tr>\n",
              "    <tr>\n",
              "      <th>4</th>\n",
              "      <td>2.0</td>\n",
              "      <td>-1.158233</td>\n",
              "      <td>0.877737</td>\n",
              "      <td>1.548718</td>\n",
              "      <td>0.403034</td>\n",
              "      <td>-0.407193</td>\n",
              "      <td>0.095921</td>\n",
              "      <td>0.592941</td>\n",
              "      <td>-0.270533</td>\n",
              "      <td>0.817739</td>\n",
              "      <td>0.753074</td>\n",
              "      <td>-0.822843</td>\n",
              "      <td>0.538196</td>\n",
              "      <td>1.345852</td>\n",
              "      <td>-1.119670</td>\n",
              "      <td>0.175121</td>\n",
              "      <td>-0.451449</td>\n",
              "      <td>-0.237033</td>\n",
              "      <td>-0.038195</td>\n",
              "      <td>0.803487</td>\n",
              "      <td>0.408542</td>\n",
              "      <td>-0.009431</td>\n",
              "      <td>0.798278</td>\n",
              "      <td>-0.137458</td>\n",
              "      <td>0.141267</td>\n",
              "      <td>-0.206010</td>\n",
              "      <td>0.502292</td>\n",
              "      <td>0.219422</td>\n",
              "      <td>0.215153</td>\n",
              "      <td>69.99</td>\n",
              "      <td>0</td>\n",
              "    </tr>\n",
              "  </tbody>\n",
              "</table>\n",
              "</div>"
            ],
            "text/plain": [
              "   Time        V1        V2        V3  ...       V27       V28  Amount  Class\n",
              "0   0.0 -1.359807 -0.072781  2.536347  ...  0.133558 -0.021053  149.62      0\n",
              "1   0.0  1.191857  0.266151  0.166480  ... -0.008983  0.014724    2.69      0\n",
              "2   1.0 -1.358354 -1.340163  1.773209  ... -0.055353 -0.059752  378.66      0\n",
              "3   1.0 -0.966272 -0.185226  1.792993  ...  0.062723  0.061458  123.50      0\n",
              "4   2.0 -1.158233  0.877737  1.548718  ...  0.219422  0.215153   69.99      0\n",
              "\n",
              "[5 rows x 31 columns]"
            ]
          },
          "metadata": {
            "tags": []
          },
          "execution_count": 3
        }
      ]
    },
    {
      "cell_type": "code",
      "metadata": {
        "id": "BsLWnzBgSDGg",
        "colab_type": "code",
        "colab": {}
      },
      "source": [
        "X = data.drop('Class', axis=1)\n",
        "y = data['Class']\n",
        "\n",
        "\n",
        "X_train, X_test, y_train, y_test = train_test_split(X,y, test_size=0.30, random_state=42)\n",
        "\n",
        "\n",
        "scaler = QuantileTransformer()\n",
        "X_train = scaler.fit_transform(X_train)\n",
        "X_test = scaler.transform(X_test)"
      ],
      "execution_count": 4,
      "outputs": []
    },
    {
      "cell_type": "code",
      "metadata": {
        "id": "8NeG448zS9MP",
        "colab_type": "code",
        "colab": {
          "base_uri": "https://localhost:8080/",
          "height": 170
        },
        "outputId": "9368b549-8ac9-48a3-dac3-cd793e5c61ab"
      },
      "source": [
        "model = xgb.XGBClassifier(learning_rate=0.002, max_depth=13, n_estimators=100, random_state=42)\n",
        "model.fit(X_train, y_train)\n",
        "y_pred = model.predict(X_test)\n",
        "print(classification_report(y_test, y_pred))"
      ],
      "execution_count": 5,
      "outputs": [
        {
          "output_type": "stream",
          "text": [
            "              precision    recall  f1-score   support\n",
            "\n",
            "           0       1.00      1.00      1.00     85307\n",
            "           1       0.93      0.82      0.87       136\n",
            "\n",
            "    accuracy                           1.00     85443\n",
            "   macro avg       0.97      0.91      0.94     85443\n",
            "weighted avg       1.00      1.00      1.00     85443\n",
            "\n"
          ],
          "name": "stdout"
        }
      ]
    },
    {
      "cell_type": "markdown",
      "metadata": {
        "id": "elYTXjQEmgoA",
        "colab_type": "text"
      },
      "source": [
        "### Features Importance XGBoost "
      ]
    },
    {
      "cell_type": "code",
      "metadata": {
        "id": "ovy89ER-UpwE",
        "colab_type": "code",
        "colab": {
          "base_uri": "https://localhost:8080/",
          "height": 513
        },
        "outputId": "54539d00-b36b-4166-ccfa-85353bae60a9"
      },
      "source": [
        "fig, ax = plt.subplots(figsize=(12,7))\n",
        "xgb.plot_importance(model, ax=ax)\n",
        "plt.grid(False)\n",
        "plt.tight_layout()"
      ],
      "execution_count": 6,
      "outputs": [
        {
          "output_type": "display_data",
          "data": {
            "image/png": "[encoded data removed]",
            "text/plain": [
              "<Figure size 864x504 with 1 Axes>"
            ]
          },
          "metadata": {
            "tags": [],
            "needs_background": "light"
          }
        }
      ]
    },
    {
      "cell_type": "markdown",
      "metadata": {
        "id": "6P-SZYRVmnYC",
        "colab_type": "text"
      },
      "source": [
        "<br>\n",
        "<hr>\n",
        "\n",
        "### Hiperparâmetros\n",
        "\n",
        "Principais hiperparâmetros do XGBoost\n",
        "\n",
        "<br>"
      ]
    },
    {
      "cell_type": "code",
      "metadata": {
        "id": "hSOma_aq2gwf",
        "colab_type": "code",
        "colab": {
          "base_uri": "https://localhost:8080/",
          "height": 170
        },
        "outputId": "0889b157-9807-458f-e876-f08e25bf9c0d"
      },
      "source": [
        "mdl = XGBClassifier(max_depth=13,\n",
        "                    learning_rate=0.001,\n",
        "                    n_estimators=100,\n",
        "                    verbosity=0,\n",
        "                    booster='dart',\n",
        "                    gamma=3,\n",
        "                    min_child_weight=3,\n",
        "                    max_delta_step=7,\n",
        "                    subsample=1,\n",
        "                    sampling_method='gradient_based',\n",
        "                    colsample_bytree=0.8,\n",
        "                    colsample_bylevel=0.8,\n",
        "                    comsample_bynode=0.8,\n",
        "                    reg_lambda=1,\n",
        "                    reg_alpha=1,\n",
        "                    tree_method='gpu_hist',\n",
        "                    max_leaves=25,\n",
        "                    feature_selector=10,\n",
        "                    scale_pos_weight=2,\n",
        "                    random_state=42)"
      ],
      "execution_count": 7,
      "outputs": [
        {
          "output_type": "stream",
          "text": [
            "              precision    recall  f1-score   support\n",
            "\n",
            "           0       1.00      1.00      1.00     85307\n",
            "           1       0.92      0.82      0.87       136\n",
            "\n",
            "    accuracy                           1.00     85443\n",
            "   macro avg       0.96      0.91      0.93     85443\n",
            "weighted avg       1.00      1.00      1.00     85443\n",
            "\n"
          ],
          "name": "stdout"
        }
      ]
    },
    {
      "cell_type": "markdown",
      "metadata": {
        "id": "DQAhx0Zii98m",
        "colab_type": "text"
      },
      "source": [
        "<br>\n",
        "<hr>\n",
        "\n",
        "### Tuning Hiperparâmetros \n",
        "\n",
        "Vou Tunar os principais hiperparâmetros do XGBoost, há mais de 30 parâmetros disponíveis no modelo, mas nem todos são úteis para aumentar a performace do modelo. \n",
        "\n",
        "<br>"
      ]
    },
    {
      "cell_type": "code",
      "metadata": {
        "id": "Z59BCZT7ThPj",
        "colab_type": "code",
        "colab": {}
      },
      "source": [
        "# função objetivo \n",
        "\n",
        "def objective(params):\n",
        "  return -average_precision_score(y_test, y_pred)"
      ],
      "execution_count": 8,
      "outputs": []
    },
    {
      "cell_type": "code",
      "metadata": {
        "id": "x8Df86AQThWB",
        "colab_type": "code",
        "colab": {}
      },
      "source": [
        "# distribuição de parâmetros \n",
        "\n",
        "spaces = {'n_estimators': hp.randint('n_estimators', 3000),\n",
        "          'learning_rate': hp.loguniform('learning_rate', 1e-9, 1e-1),\n",
        "          'max_depth': hp.randint('max_depth', 30),\n",
        "          'min_child_weight': hp.uniform('min_child_weight', 0,20),\n",
        "          'reg_lambda': hp.uniform('reg_lambda', 0.001, 3),\n",
        "          'reg_alpha': hp.uniform('reg_alpha', 0.001, 3),\n",
        "          'gamma': hp.uniform('gamma', 0,10),\n",
        "          'max_delta_step': hp.uniform('max_delta_step', 0, 10),\n",
        "          'max_leaves': hp.randint('max_leaves', 30),\n",
        "          'colsample_bytree': hp.uniform('colsample_bytree', 0.1,1.0),\n",
        "          'colsample_bylevel': hp.uniform('colsample_bylevel', 0.1, 1.0),\n",
        "          'scale_pos_weight': hp.randint('scale_pos_weight', 10)}"
      ],
      "execution_count": 9,
      "outputs": []
    },
    {
      "cell_type": "code",
      "metadata": {
        "id": "klnYpt_umC9B",
        "colab_type": "code",
        "colab": {
          "base_uri": "https://localhost:8080/",
          "height": 34
        },
        "outputId": "422895af-3565-42c8-e2c8-25f67795e123"
      },
      "source": [
        "trials = Trials()\n",
        "tuning_hyperparameters = fmin(objective, spaces, algo=tpe.suggest, max_evals=50, trials=trials, verbose=1)"
      ],
      "execution_count": 10,
      "outputs": [
        {
          "output_type": "stream",
          "text": [
            "100%|██████████| 50/50 [00:01<00:00, 32.48it/s, best loss: -0.7563078899780487]\n"
          ],
          "name": "stdout"
        }
      ]
    },
    {
      "cell_type": "code",
      "metadata": {
        "id": "xOaJuA59ptSm",
        "colab_type": "code",
        "colab": {
          "base_uri": "https://localhost:8080/",
          "height": 221
        },
        "outputId": "953c2f86-b1cc-4756-b39e-b162fd2f2631"
      },
      "source": [
        "# melhores parâmetros \n",
        "tuning_hyperparameters"
      ],
      "execution_count": 11,
      "outputs": [
        {
          "output_type": "execute_result",
          "data": {
            "text/plain": [
              "{'colsample_bylevel': 0.6461901425375304,\n",
              " 'colsample_bytree': 0.586472124272878,\n",
              " 'gamma': 1.2893715917668624,\n",
              " 'learning_rate': 1.0731453109087752,\n",
              " 'max_delta_step': 2.9793525635993245,\n",
              " 'max_depth': 27,\n",
              " 'max_leaves': 20,\n",
              " 'min_child_weight': 16.649019031068477,\n",
              " 'n_estimators': 1044,\n",
              " 'reg_alpha': 0.1440380877781203,\n",
              " 'reg_lambda': 2.8522598478470127,\n",
              " 'scale_pos_weight': 8}"
            ]
          },
          "metadata": {
            "tags": []
          },
          "execution_count": 11
        }
      ]
    },
    {
      "cell_type": "code",
      "metadata": {
        "id": "iZxYZwn1oV_p",
        "colab_type": "code",
        "colab": {
          "base_uri": "https://localhost:8080/",
          "height": 170
        },
        "outputId": "76f84179-2d20-440e-a5fb-61c2a197590a"
      },
      "source": [
        "# XGBoost tunado  \n",
        "mdl = XGBClassifier(n_estimators=1044,\n",
        "                      learning_rate=1.073,\n",
        "                      max_depth=27,\n",
        "                      min_child_weight=16,\n",
        "                      reg_lambda=2.85,\n",
        "                      reg_alpha=0.144,\n",
        "                      gamma=1,\n",
        "                      max_delta_step=2,\n",
        "                      max_leaves=20,\n",
        "                      colsample_bytree=0.58,\n",
        "                      colsample_bylevel=0.64,\n",
        "                      scale_pos_weight=8,\n",
        "                      random_state=42)\n",
        "  \n",
        "mdl.fit(X_train, y_train)\n",
        "y_pred = mdl.predict(X_test)\n",
        "print(classification_report(y_test, y_pred))"
      ],
      "execution_count": 16,
      "outputs": [
        {
          "output_type": "stream",
          "text": [
            "              precision    recall  f1-score   support\n",
            "\n",
            "           0       1.00      1.00      1.00     85307\n",
            "           1       0.88      0.84      0.86       136\n",
            "\n",
            "    accuracy                           1.00     85443\n",
            "   macro avg       0.94      0.92      0.93     85443\n",
            "weighted avg       1.00      1.00      1.00     85443\n",
            "\n"
          ],
          "name": "stdout"
        }
      ]
    }
  ]
}