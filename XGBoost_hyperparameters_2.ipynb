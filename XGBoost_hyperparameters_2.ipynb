{
  "nbformat": 4,
  "nbformat_minor": 0,
  "metadata": {
    "colab": {
      "name": "XGBoost_hyperparameters_2.ipynb",
      "provenance": [],
      "collapsed_sections": [],
      "mount_file_id": "1kkbUUOyjkPV9Qb1kHAuU-S_oHHfxgb3E",
      "authorship_tag": "ABX9TyPaPMMpnc7a7YGNDf3+BXlt",
      "include_colab_link": true
    },
    "kernelspec": {
      "name": "python3",
      "display_name": "Python 3"
    }
  },
  "cells": [
    {
      "cell_type": "markdown",
      "metadata": {
        "id": "view-in-github",
        "colab_type": "text"
      },
      "source": [
        "<a href=\"https://colab.research.google.com/github/Felipe-Oliveira11/Gradient-Boosting-ML/blob/master/XGBoost_hyperparameters_2.ipynb\" target=\"_parent\"><img src=\"https://colab.research.google.com/assets/colab-badge.svg\" alt=\"Open In Colab\"/></a>"
      ]
    },
    {
      "cell_type": "markdown",
      "metadata": {
        "id": "NZDDFC6ZFnYr",
        "colab_type": "text"
      },
      "source": [
        "### XGBoost Hyperparameters\n",
        "<hr>\n",
        "\n",
        "O algoritmo XGBoost se tornou a arma definitiva para muitos cientistas de dados. É um algoritmo altamente sofisticado, poderoso o suficiente para lidar com todos os tipos de irregularidades de dados.\n",
        "\n",
        "\n",
        "<p align=center>\n",
        "<img src=\"https://www.dataapplab.com/wp-content/uploads/2017/08/xgboost.png\" width=\"50%\"></p>\n",
        "\n",
        "\n",
        "<br>\n",
        "<hr>"
      ]
    },
    {
      "cell_type": "code",
      "metadata": {
        "id": "xNJyDniCFiCB",
        "colab_type": "code",
        "colab": {}
      },
      "source": [
        "import numpy as np \n",
        "import pandas as pd\n",
        "from sklearn.model_selection import train_test_split\n",
        "from sklearn.preprocessing import MinMaxScaler, LabelEncoder, OneHotEncoder\n",
        "from sklearn.metrics import classification_report, average_precision_score, accuracy_score, recall_score\n",
        "import matplotlib.pyplot as plt\n",
        "\n",
        "import xgboost as xgb\n",
        "from xgboost import XGBClassifier"
      ],
      "execution_count": 1,
      "outputs": []
    },
    {
      "cell_type": "code",
      "metadata": {
        "id": "K0dlS3uUGSv1",
        "colab_type": "code",
        "colab": {
          "base_uri": "https://localhost:8080/",
          "height": 204
        },
        "outputId": "730f51de-2673-45e6-c296-96b6b0ad2e06"
      },
      "source": [
        "path = '/content/drive/My Drive/Inteligência Artificial - Colab/Marketing /campaigns.csv'\n",
        "data = pd.read_csv(path)\n",
        "data.head()"
      ],
      "execution_count": 2,
      "outputs": [
        {
          "output_type": "execute_result",
          "data": {
            "text/html": [
              "<div>\n",
              "<style scoped>\n",
              "    .dataframe tbody tr th:only-of-type {\n",
              "        vertical-align: middle;\n",
              "    }\n",
              "\n",
              "    .dataframe tbody tr th {\n",
              "        vertical-align: top;\n",
              "    }\n",
              "\n",
              "    .dataframe thead th {\n",
              "        text-align: right;\n",
              "    }\n",
              "</style>\n",
              "<table border=\"1\" class=\"dataframe\">\n",
              "  <thead>\n",
              "    <tr style=\"text-align: right;\">\n",
              "      <th></th>\n",
              "      <th>Unnamed: 0</th>\n",
              "      <th>age</th>\n",
              "      <th>job</th>\n",
              "      <th>marital</th>\n",
              "      <th>education</th>\n",
              "      <th>default</th>\n",
              "      <th>balance</th>\n",
              "      <th>housing</th>\n",
              "      <th>loan</th>\n",
              "      <th>contact</th>\n",
              "      <th>day</th>\n",
              "      <th>month</th>\n",
              "      <th>duration</th>\n",
              "      <th>campaign</th>\n",
              "      <th>pdays</th>\n",
              "      <th>previous</th>\n",
              "      <th>poutcome</th>\n",
              "      <th>y</th>\n",
              "    </tr>\n",
              "  </thead>\n",
              "  <tbody>\n",
              "    <tr>\n",
              "      <th>0</th>\n",
              "      <td>0</td>\n",
              "      <td>58</td>\n",
              "      <td>management</td>\n",
              "      <td>married</td>\n",
              "      <td>tertiary</td>\n",
              "      <td>no</td>\n",
              "      <td>2143</td>\n",
              "      <td>yes</td>\n",
              "      <td>no</td>\n",
              "      <td>unknown</td>\n",
              "      <td>5</td>\n",
              "      <td>may</td>\n",
              "      <td>261</td>\n",
              "      <td>1</td>\n",
              "      <td>-1</td>\n",
              "      <td>0</td>\n",
              "      <td>unknown</td>\n",
              "      <td>no</td>\n",
              "    </tr>\n",
              "    <tr>\n",
              "      <th>1</th>\n",
              "      <td>1</td>\n",
              "      <td>44</td>\n",
              "      <td>technician</td>\n",
              "      <td>single</td>\n",
              "      <td>secondary</td>\n",
              "      <td>no</td>\n",
              "      <td>29</td>\n",
              "      <td>yes</td>\n",
              "      <td>no</td>\n",
              "      <td>unknown</td>\n",
              "      <td>5</td>\n",
              "      <td>may</td>\n",
              "      <td>151</td>\n",
              "      <td>1</td>\n",
              "      <td>-1</td>\n",
              "      <td>0</td>\n",
              "      <td>unknown</td>\n",
              "      <td>no</td>\n",
              "    </tr>\n",
              "    <tr>\n",
              "      <th>2</th>\n",
              "      <td>2</td>\n",
              "      <td>33</td>\n",
              "      <td>entrepreneur</td>\n",
              "      <td>married</td>\n",
              "      <td>secondary</td>\n",
              "      <td>no</td>\n",
              "      <td>2</td>\n",
              "      <td>yes</td>\n",
              "      <td>yes</td>\n",
              "      <td>unknown</td>\n",
              "      <td>5</td>\n",
              "      <td>may</td>\n",
              "      <td>76</td>\n",
              "      <td>1</td>\n",
              "      <td>-1</td>\n",
              "      <td>0</td>\n",
              "      <td>unknown</td>\n",
              "      <td>no</td>\n",
              "    </tr>\n",
              "    <tr>\n",
              "      <th>3</th>\n",
              "      <td>3</td>\n",
              "      <td>47</td>\n",
              "      <td>blue-collar</td>\n",
              "      <td>married</td>\n",
              "      <td>unknown</td>\n",
              "      <td>no</td>\n",
              "      <td>1506</td>\n",
              "      <td>yes</td>\n",
              "      <td>no</td>\n",
              "      <td>unknown</td>\n",
              "      <td>5</td>\n",
              "      <td>may</td>\n",
              "      <td>92</td>\n",
              "      <td>1</td>\n",
              "      <td>-1</td>\n",
              "      <td>0</td>\n",
              "      <td>unknown</td>\n",
              "      <td>no</td>\n",
              "    </tr>\n",
              "    <tr>\n",
              "      <th>4</th>\n",
              "      <td>4</td>\n",
              "      <td>33</td>\n",
              "      <td>unknown</td>\n",
              "      <td>single</td>\n",
              "      <td>unknown</td>\n",
              "      <td>no</td>\n",
              "      <td>1</td>\n",
              "      <td>no</td>\n",
              "      <td>no</td>\n",
              "      <td>unknown</td>\n",
              "      <td>5</td>\n",
              "      <td>may</td>\n",
              "      <td>198</td>\n",
              "      <td>1</td>\n",
              "      <td>-1</td>\n",
              "      <td>0</td>\n",
              "      <td>unknown</td>\n",
              "      <td>no</td>\n",
              "    </tr>\n",
              "  </tbody>\n",
              "</table>\n",
              "</div>"
            ],
            "text/plain": [
              "   Unnamed: 0  age           job  marital  ... pdays previous  poutcome   y\n",
              "0           0   58    management  married  ...    -1        0   unknown  no\n",
              "1           1   44    technician   single  ...    -1        0   unknown  no\n",
              "2           2   33  entrepreneur  married  ...    -1        0   unknown  no\n",
              "3           3   47   blue-collar  married  ...    -1        0   unknown  no\n",
              "4           4   33       unknown   single  ...    -1        0   unknown  no\n",
              "\n",
              "[5 rows x 18 columns]"
            ]
          },
          "metadata": {
            "tags": []
          },
          "execution_count": 2
        }
      ]
    },
    {
      "cell_type": "code",
      "metadata": {
        "id": "YN-yvATMGbM0",
        "colab_type": "code",
        "colab": {}
      },
      "source": [
        "data.drop('Unnamed: 0', axis=1, inplace=True)"
      ],
      "execution_count": 3,
      "outputs": []
    },
    {
      "cell_type": "code",
      "metadata": {
        "id": "u2Y8kziVGiJT",
        "colab_type": "code",
        "colab": {
          "base_uri": "https://localhost:8080/",
          "height": 71
        },
        "outputId": "84c0e477-ca06-41a3-80ff-7ef590c2d026"
      },
      "source": [
        "label = LabelEncoder()\n",
        "data['y'] = label.fit_transform(data[['y']])\n",
        "\n",
        "\n",
        "cat_cols = data.select_dtypes(include=['object']).columns \n",
        "num_cols = data.select_dtypes(include=['float64', 'int64']).columns\n",
        "\n",
        "\n",
        "dummies = pd.get_dummies(data[cat_cols], prefix=cat_cols, drop_first=True)\n",
        "data = pd.concat([data, dummies], axis=1)\n",
        "data.drop(cat_cols, axis=1, inplace=True)\n",
        "data.shape\n",
        "\n",
        "\n",
        "X = data.drop('y', axis=1)\n",
        "y = data['y']\n",
        "\n",
        "\n",
        "X_train, X_test, y_train, y_test = train_test_split(X,y, test_size=0.30, random_state=42)"
      ],
      "execution_count": 4,
      "outputs": [
        {
          "output_type": "stream",
          "text": [
            "/usr/local/lib/python3.6/dist-packages/sklearn/preprocessing/_label.py:251: DataConversionWarning: A column-vector y was passed when a 1d array was expected. Please change the shape of y to (n_samples, ), for example using ravel().\n",
            "  y = column_or_1d(y, warn=True)\n"
          ],
          "name": "stderr"
        }
      ]
    },
    {
      "cell_type": "markdown",
      "metadata": {
        "id": "wXXBh9MxNV5s",
        "colab_type": "text"
      },
      "source": [
        "<br>\n",
        "<br>\n",
        "<hr>\n",
        "<br>\n",
        "\n",
        "\n",
        "### Vantagens do XGBoost\n",
        "<br>\n",
        "\n",
        "<b> 1.Regularização:</b>\n",
        "A implementação padrão do GBM não possui regularização como o XGBoost, portanto, também ajuda a reduzir o overfitting.\n",
        "De fato, o XGBoost também é conhecido como uma técnica de 'reforço regularizado'.\n",
        "\n",
        "<br>\n",
        "\n",
        "<b> 2.Processamento paralelo: </b>\n",
        "O XGBoost implementa o processamento paralelo e é incrivelmente mais rápido em comparação com o GBM.\n",
        "\n",
        "<br>\n",
        "\n",
        "<b> 3.Alta flexibilidade: </b>\n",
        "O XGBoost permite que os usuários definam objetivos de otimização personalizados e critérios de avaliação .\n",
        "Isso adiciona uma nova dimensão ao modelo e não há limite para o que podemos fazer.\n",
        "\n",
        "\n",
        "<br>\n",
        "\n",
        "\n",
        "<b> 4.Manipulação de valores ausentes: </b>\n",
        "O XGBoost possui uma rotina integrada para lidar com os valores ausentes.\n",
        "É necessário que o usuário forneça um valor diferente de outras observações e passe isso como um parâmetro. O XGBoost tenta coisas diferentes ao encontrar um valor ausente em cada nó e aprende qual caminho seguir para valores ausentes no futuro.\n",
        "\n",
        "\n",
        "<br>\n",
        "\n",
        "\n",
        "<b> 5.Poda de árvores: </b>\n",
        "Um GBM para de dividir um nó quando encontra uma perda negativa na divisão. Portanto, é mais um algoritmo ganancioso.\n",
        "Por outro lado, o XGBoost faz divisões até a profundidade máxima especificada e em seguida, começa a podar a árvore para trás e remove as divisões além das quais não há ganho positivo.\n",
        "\n",
        "\n",
        "\n",
        "<br>\n",
        "\n",
        "\n",
        "<b> 6.Validação cruzada incorporada: </b>\n",
        "O XGBoost permite ao usuário executar uma validação cruzada a cada iteração do processo de otimização e, portanto, é fácil obter o número ideal exato de iterações de otimização em uma única execução.\n",
        "Isso é diferente do GBM, onde temos que executar uma pesquisa em grade(GridSearch) e apenas valores limitados podem ser testados.\n",
        "\n"
      ]
    },
    {
      "cell_type": "markdown",
      "metadata": {
        "id": "OxLhuisjINOX",
        "colab_type": "text"
      },
      "source": [
        "<br>\n",
        "<br>\n",
        "<hr>\n",
        "<br>\n",
        "\n",
        "\n",
        "### Hiperparâmetros \n",
        "\n",
        "Principais hiperparâmetros do algoritmo XGBoost\n",
        "\n",
        "Construir um modelo usando o XGBoost é fácil. Mas, melhorar o modelo usando o XGBoost é difícil. Este algoritmo usa vários parâmetros. Para melhorar o modelo, o ajuste de parâmetros é obrigatório. É muito difícil obter respostas para perguntas práticas como - Que conjunto de parâmetros você deve ajustar ? Qual é o valor ideal desses parâmetros para obter uma saída ideal ?\n",
        "\n",
        "\n",
        "\n",
        "\n",
        "<br>\n",
        "<br>"
      ]
    },
    {
      "cell_type": "markdown",
      "metadata": {
        "id": "uBQ8QaH8IXhv",
        "colab_type": "text"
      },
      "source": [
        "#### <b> n_estimators </b>\n",
        " O número de estimadores (árvores ou modelos lineares depende do booster) que devem ser criados, no conceito do Gradiente boosting é chamado de \"Alunos fracos\" por conta de serem pequenos estimadores com desempenho bem abaixo, que são melhorados a cada iteração. \n",
        "\n",
        "<br>"
      ]
    },
    {
      "cell_type": "code",
      "metadata": {
        "id": "TH9oa9I-Igs3",
        "colab_type": "code",
        "colab": {}
      },
      "source": [
        "mdl = XGBClassifier(n_estimators=500)"
      ],
      "execution_count": 5,
      "outputs": []
    },
    {
      "cell_type": "markdown",
      "metadata": {
        "id": "RgXVbwM_KwFP",
        "colab_type": "text"
      },
      "source": [
        "<br>\n",
        "<br>\n",
        "<hr>\n",
        "<br>\n",
        "\n"
      ]
    },
    {
      "cell_type": "markdown",
      "metadata": {
        "id": "CMRLZ_ERK0LG",
        "colab_type": "text"
      },
      "source": [
        "#### <b> learning_rate </b>\n",
        "\n",
        "Parâmetro de taxa de aprendizagem do algoritmo. isso determina o impacto de cada árvore no resultado final. O GBM funciona iniciando com uma estimativa inicial que é atualizada usando a saída de cada árvore. O parâmetro de aprendizado controla a magnitude dessa mudança nas estimativas.\n",
        "\n",
        "\n",
        "* Valores mais baixos são geralmente preferidos, pois tornam o modelo robusto às características específicas da árvore e, assim, permite que ele se generalize bem.\n",
        "* Valores mais baixos exigiriam um número maior de árvores para modelar todas as relações e serão computacionalmente caros.\n",
        "\n",
        "\n",
        "<br>"
      ]
    },
    {
      "cell_type": "code",
      "metadata": {
        "id": "fwl4kHhVMbXq",
        "colab_type": "code",
        "colab": {}
      },
      "source": [
        "mdl = XGBClassifier(learning_rate=0.01)"
      ],
      "execution_count": 6,
      "outputs": []
    },
    {
      "cell_type": "markdown",
      "metadata": {
        "id": "NSmzxPBUNFzs",
        "colab_type": "text"
      },
      "source": [
        "<br>\n",
        "<hr>\n",
        "<br>\n",
        "<br>"
      ]
    },
    {
      "cell_type": "markdown",
      "metadata": {
        "id": "5r9dCfbJNKU3",
        "colab_type": "text"
      },
      "source": [
        "#### <b> max_depth </b> \n",
        "\n",
        "Produnfidade máxima da árvore.Utilizado para controlar o ajuste excessivo à medida que a profundidade mais alta permitirá ao modelo aprender relações muito específicas para uma amostra específica.\n",
        "\n",
        "\n",
        "<br>"
      ]
    },
    {
      "cell_type": "code",
      "metadata": {
        "id": "YX_3ZPx-NJ0x",
        "colab_type": "code",
        "colab": {}
      },
      "source": [
        "mdl = XGBClassifier(max_depth=10)"
      ],
      "execution_count": 7,
      "outputs": []
    },
    {
      "cell_type": "markdown",
      "metadata": {
        "id": "8BJ4ya6EXF19",
        "colab_type": "text"
      },
      "source": [
        "<br>\n",
        "<br>\n",
        "<hr>\n",
        "<br>"
      ]
    },
    {
      "cell_type": "markdown",
      "metadata": {
        "id": "229g8tKCXL4G",
        "colab_type": "text"
      },
      "source": [
        "#### <b> min_child_weight </b>\n",
        "\n",
        "Define a soma mínima de pesos de todas as observações necessárias em \"aluno fraco\".\n",
        "\n",
        "Usado para controlar o excesso de ajuste (Overfitting). Valores mais altos impedem um modelo de aprender relações que podem ser altamente específicas para a amostra específica selecionada para uma árvore."
      ]
    },
    {
      "cell_type": "code",
      "metadata": {
        "id": "Cyod-Q88XTjV",
        "colab_type": "code",
        "colab": {}
      },
      "source": [
        "mdl = XGBClassifier(min_child_weight=2)"
      ],
      "execution_count": 8,
      "outputs": []
    },
    {
      "cell_type": "markdown",
      "metadata": {
        "id": "1lpB31P9Xh6f",
        "colab_type": "text"
      },
      "source": [
        "<br>\n",
        "<br>\n",
        "<hr>\n",
        "<br>"
      ]
    },
    {
      "cell_type": "markdown",
      "metadata": {
        "id": "TGiqdpUIXjKB",
        "colab_type": "text"
      },
      "source": [
        "#### <b> gamma </b> \n",
        "\n",
        "Um nó é dividido apenas quando a divisão resultante fornece uma redução positiva na função de perda. Gamma especifica a redução de perda mínima necessária para fazer uma divisão.\n",
        "Torna o algoritmo conservador. Os valores podem variar dependendo da função de perda e devem ser ajustados.\n",
        "\n",
        "<br>\n",
        "\n"
      ]
    },
    {
      "cell_type": "code",
      "metadata": {
        "id": "dZPRI6gOXutU",
        "colab_type": "code",
        "colab": {}
      },
      "source": [
        "mdl = XGBClassifier(gamma=0.70)"
      ],
      "execution_count": 9,
      "outputs": []
    },
    {
      "cell_type": "markdown",
      "metadata": {
        "id": "GRPFDKwhYbbR",
        "colab_type": "text"
      },
      "source": [
        "<br>\n",
        "<br>\n",
        "<hr>\n",
        "<br>"
      ]
    },
    {
      "cell_type": "markdown",
      "metadata": {
        "id": "Ymw9dJGaYeoW",
        "colab_type": "text"
      },
      "source": [
        "#### <b> max_delta_step </b>\n",
        "\n",
        "Este parâmetor permite que a estimativa de peso de cada árvore seja definido. Se o valor estiver definido como 0, significa que não há restrição. Se estiver definido como um valor positivo, pode ajudar a tornar a etapa da atualização mais conservadora.\n",
        "\n",
        "\n",
        "* Normalmente, esse parâmetro não é necessário, mas pode ajudar na regressão logística quando a classe está extremamente desequilibrada.\n",
        "Isso geralmente não é usado, mas você pode explorar mais, se desejar.\n",
        "\n",
        "\n",
        "<br>"
      ]
    },
    {
      "cell_type": "code",
      "metadata": {
        "id": "mrVl_Zp4YzVH",
        "colab_type": "code",
        "colab": {}
      },
      "source": [
        "mdl = XGBClassifier(max_delta_step=5)"
      ],
      "execution_count": 10,
      "outputs": []
    },
    {
      "cell_type": "markdown",
      "metadata": {
        "id": "mO8uzlTyY-n6",
        "colab_type": "text"
      },
      "source": [
        "<br>\n",
        "<br>\n",
        "<hr>\n",
        "<br>"
      ]
    },
    {
      "cell_type": "markdown",
      "metadata": {
        "id": "WUQii7IUZEwh",
        "colab_type": "text"
      },
      "source": [
        "#### <b> subsample </b>\n",
        "\n",
        "\n",
        "Indica a fração de observações a serem amostras aleatórias para cada árvore.\n",
        "Valores mais baixos tornam o algoritmo mais conservador e evitam o ajuste excessivo, mas valores muito pequenos podem levar a um ajuste insuficiente.\n",
        "\n",
        "Geralmente usado no intervalo de [0.5 --- 1 ] \n",
        "\n",
        "\n",
        "<br>"
      ]
    },
    {
      "cell_type": "code",
      "metadata": {
        "id": "vyM1u88SZKCZ",
        "colab_type": "code",
        "colab": {}
      },
      "source": [
        "mdl = XGBClassifier(subsample=0.8)"
      ],
      "execution_count": 11,
      "outputs": []
    },
    {
      "cell_type": "markdown",
      "metadata": {
        "id": "efWHrTOlZgp6",
        "colab_type": "text"
      },
      "source": [
        "<br>\n",
        "<br>\n",
        "<hr>\n",
        "<br>"
      ]
    },
    {
      "cell_type": "markdown",
      "metadata": {
        "id": "N0SmbaREZsHk",
        "colab_type": "text"
      },
      "source": [
        "#### <b> colsample_bytree </b> \n",
        "\n",
        "\n",
        "Indica a fração de colunas a serem amostras aleatoriamente para cada árvore.\n",
        "\n",
        "Geralmente usado no intervalo de [0.5 --- 1 ] \n",
        "\n",
        "<br>"
      ]
    },
    {
      "cell_type": "code",
      "metadata": {
        "id": "OOIoQsUfZg_n",
        "colab_type": "code",
        "colab": {}
      },
      "source": [
        "mdl = XGBClassifier(colsample_bytree=0.9)"
      ],
      "execution_count": 12,
      "outputs": []
    },
    {
      "cell_type": "markdown",
      "metadata": {
        "id": "AdeX6abJZ9bx",
        "colab_type": "text"
      },
      "source": [
        "<br>\n",
        "<br>\n",
        "<hr>\n",
        "<br>"
      ]
    },
    {
      "cell_type": "markdown",
      "metadata": {
        "id": "yLi6nejXZ-Kv",
        "colab_type": "text"
      },
      "source": [
        "#### <b> colsample_bylevel </b> \n",
        "\n",
        "\n",
        "Indica a taxa de subamostra de colunas para cada divisão, em cada nível.\n",
        "\n",
        "<br>"
      ]
    },
    {
      "cell_type": "code",
      "metadata": {
        "id": "OuFT6Q1JZ9rL",
        "colab_type": "code",
        "colab": {}
      },
      "source": [
        "mdl = XGBClassifier(colsample_bylevel=0.6)"
      ],
      "execution_count": 13,
      "outputs": []
    },
    {
      "cell_type": "markdown",
      "metadata": {
        "id": "NLyLLvRyaLmv",
        "colab_type": "text"
      },
      "source": [
        "<br>\n",
        "<br>\n",
        "<hr>\n",
        "<br>"
      ]
    },
    {
      "cell_type": "markdown",
      "metadata": {
        "id": "7CjEuUtyaOHZ",
        "colab_type": "text"
      },
      "source": [
        "#### <b> reg_lambda </b> \n",
        "\n",
        "\n",
        "Termo de regularização L2 em pesos (análogo à regressão de Ridge)\n",
        "Isso é usado para lidar com a parte de regularização do XGBoost. Embora muitos cientistas de dados não o usem com frequência, ele deve ser explorado para reduzir o Overfitting.\n",
        "\n",
        "<br>"
      ]
    },
    {
      "cell_type": "code",
      "metadata": {
        "id": "Vd-YhIYzaK0M",
        "colab_type": "code",
        "colab": {}
      },
      "source": [
        "mdl = XGBClassifier(reg_lambda=0.80)"
      ],
      "execution_count": 14,
      "outputs": []
    },
    {
      "cell_type": "markdown",
      "metadata": {
        "id": "jhBprLvtakCb",
        "colab_type": "text"
      },
      "source": [
        "<br>\n",
        "<br>\n",
        "<hr>\n",
        "<br>"
      ]
    },
    {
      "cell_type": "markdown",
      "metadata": {
        "id": "j08ZwFsXamZp",
        "colab_type": "text"
      },
      "source": [
        "#### <b> reg_alpha </b> \n",
        "\n",
        "\n",
        "Termo de regularização L1 em ​​peso (análogo à regressão de Lasso)\n",
        "Pode ser usado em casos de dimensionalidade muito alta, para que o algoritmo seja executado mais rapidamente quando implementado.\n",
        "\n",
        "<br>\n"
      ]
    },
    {
      "cell_type": "code",
      "metadata": {
        "id": "LNvobTayahgO",
        "colab_type": "code",
        "colab": {}
      },
      "source": [
        "mdl = XGBClassifier(reg_alpha=1)"
      ],
      "execution_count": 15,
      "outputs": []
    },
    {
      "cell_type": "markdown",
      "metadata": {
        "id": "ywsPlpDEayPX",
        "colab_type": "text"
      },
      "source": [
        "<br>\n",
        "<br>\n",
        "<hr>\n",
        "<br>"
      ]
    },
    {
      "cell_type": "markdown",
      "metadata": {
        "id": "PPBwPnpEa0Gd",
        "colab_type": "text"
      },
      "source": [
        "#### <b> scale_pos_weight </b>\n",
        "\n",
        "\n",
        "Um valor maior que 0 deve ser usado em caso de desequilíbrio de classe alta, pois ajuda na convergência mais rápida.\n",
        "\n",
        "\n",
        "<br>"
      ]
    },
    {
      "cell_type": "code",
      "metadata": {
        "id": "YmetT3euaxcR",
        "colab_type": "code",
        "colab": {}
      },
      "source": [
        "mdl = XGBClassifier(scale_pos_weight=5)"
      ],
      "execution_count": 16,
      "outputs": []
    },
    {
      "cell_type": "markdown",
      "metadata": {
        "id": "_nx72MRTbBPS",
        "colab_type": "text"
      },
      "source": [
        "<br>\n",
        "<br>\n",
        "<hr>\n",
        "<br>"
      ]
    },
    {
      "cell_type": "markdown",
      "metadata": {
        "id": "4Sdy0rihbG67",
        "colab_type": "text"
      },
      "source": [
        "#### <b> objective </b>\n",
        "\n",
        "\n",
        "Isso define a função de perda a ser minimizada. Os valores mais usados ​​são:\n",
        "\n",
        "* <b> binary:logistic</b>: Usado para classificação binária com regressão logística (retorna a probabilidade não a classe) \n",
        "\n",
        "\n",
        "* <b> multi:softmax</b>: Aplicada para classificação Multi classe com função Softmax (retorna a classe prevista não a probabilidade) Necessário definir o parâmetro <b> num_class </b> para definir as classes exclusivas. \n",
        "\n",
        "\n",
        "\n",
        "* <b> reg:linear</b>: Para tarefas de regressão.  \n",
        "\n",
        "<br>"
      ]
    },
    {
      "cell_type": "code",
      "metadata": {
        "id": "7vPl5a5tbAmp",
        "colab_type": "code",
        "colab": {}
      },
      "source": [
        "mdl = XGBClassifier(objective='binary:logistic')"
      ],
      "execution_count": 17,
      "outputs": []
    },
    {
      "cell_type": "markdown",
      "metadata": {
        "id": "aCJEH_i5cshT",
        "colab_type": "text"
      },
      "source": [
        "<br>\n",
        "<br>\n",
        "<hr>\n",
        "<br>"
      ]
    },
    {
      "cell_type": "markdown",
      "metadata": {
        "id": "FbXXy7-WcwLB",
        "colab_type": "text"
      },
      "source": [
        "#### <b> eval_metric </b>\n",
        "\n",
        "\n",
        "A métrica a ser usada para dados de validação. Os valores típicos são:\n",
        "\n",
        "* rmse - erro quadrático médio da raiz\n",
        "* mae - erro absoluto médio\n",
        "* logloss - probabilidade de log negativa\n",
        "* error - Taxa de erro de classificação binária (limite 0,5)\n",
        "* merror - Taxa de erro de classificação multiclasse\n",
        "* mlogloss - Logloss multiclass\n",
        "* auc:  Área sob a curva\n",
        "\n",
        "\n",
        "<br>"
      ]
    },
    {
      "cell_type": "code",
      "metadata": {
        "id": "-iQEO86EcuFT",
        "colab_type": "code",
        "colab": {}
      },
      "source": [
        "mdl = XGBClassifier(eval_metric='error', cv=5)"
      ],
      "execution_count": 18,
      "outputs": []
    },
    {
      "cell_type": "markdown",
      "metadata": {
        "id": "9uH9TsrjdHJ2",
        "colab_type": "text"
      },
      "source": [
        "<br>\n",
        "<br>\n",
        "<hr>\n",
        "<br>"
      ]
    },
    {
      "cell_type": "code",
      "metadata": {
        "id": "V48qP-Xidc_J",
        "colab_type": "code",
        "colab": {}
      },
      "source": [
        ""
      ],
      "execution_count": 18,
      "outputs": []
    }
  ]
}